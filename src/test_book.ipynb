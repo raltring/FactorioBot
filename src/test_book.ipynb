{
 "cells": [
  {
   "attachments": {},
   "cell_type": "markdown",
   "metadata": {},
   "source": [
    "Import the necessary packages"
   ]
  },
  {
   "cell_type": "code",
   "execution_count": 2,
   "metadata": {},
   "outputs": [],
   "source": [
    "import cv2\n",
    "import os\n",
    "#os.chdir('/home/ryan/Projects/FactorioBot/')\n",
    "os.chdir('C:/Users/ralt6/source/repos/FactorioBot/')"
   ]
  },
  {
   "attachments": {},
   "cell_type": "markdown",
   "metadata": {},
   "source": [
    "Declare image paths"
   ]
  },
  {
   "cell_type": "code",
   "execution_count": 3,
   "metadata": {},
   "outputs": [],
   "source": [
    "main_img_path = 'src/images/test_image_1.jpg'\n",
    "enemy_img_path = 'src/images/ti1_dead_enemy_vertical.jpg'"
   ]
  },
  {
   "attachments": {},
   "cell_type": "markdown",
   "metadata": {},
   "source": [
    "Load images"
   ]
  },
  {
   "cell_type": "code",
   "execution_count": 4,
   "metadata": {},
   "outputs": [],
   "source": [
    "main_img = cv2.imread(main_img_path)\n",
    "enemy_img = cv2.imread(enemy_img_path)"
   ]
  },
  {
   "attachments": {},
   "cell_type": "markdown",
   "metadata": {},
   "source": [
    "Display image sizes"
   ]
  },
  {
   "cell_type": "code",
   "execution_count": 5,
   "metadata": {},
   "outputs": [
    {
     "name": "stdout",
     "output_type": "stream",
     "text": [
      "Height = 900, width = 1600\n",
      "Height = 77, width = 68\n"
     ]
    }
   ],
   "source": [
    "h, w = main_img.shape[:2]\n",
    "print(\"Height = {}, width = {}\".format(h,w))\n",
    "h,w = enemy_img.shape[:2]\n",
    "print(\"Height = {}, width = {}\".format(h,w))"
   ]
  },
  {
   "attachments": {},
   "cell_type": "markdown",
   "metadata": {
    "tags": []
   },
   "source": [
    "Extract R,B,G values from a particular pixel"
   ]
  },
  {
   "cell_type": "code",
   "execution_count": 6,
   "metadata": {},
   "outputs": [
    {
     "name": "stdout",
     "output_type": "stream",
     "text": [
      "R: 82, G: 63, B: 46\n"
     ]
    }
   ],
   "source": [
    "b, g, r = main_img[100,100]\n",
    "print('R: {}, G: {}, B: {}'.format(r,g,b))"
   ]
  },
  {
   "attachments": {},
   "cell_type": "markdown",
   "metadata": {},
   "source": [
    "Extract a particular region of interest"
   ]
  },
  {
   "cell_type": "code",
   "execution_count": 7,
   "metadata": {},
   "outputs": [],
   "source": [
    "roi = main_img[100:400, 100:400]\n",
    "def display_image(img):\n",
    "    cv2.imshow('Section', img)\n",
    "    cv2.waitKey(0)\n",
    "    cv2.destroyAllWindows()"
   ]
  },
  {
   "attachments": {},
   "cell_type": "markdown",
   "metadata": {},
   "source": [
    "Convert images to grayscale. Set pixel values above 120 to 255 and pixel at 120 or below to 0. Display image"
   ]
  },
  {
   "cell_type": "code",
   "execution_count": 8,
   "metadata": {},
   "outputs": [],
   "source": [
    "main_gs = cv2.cvtColor(main_img, cv2.COLOR_BGR2GRAY)\n",
    "enemy_gs = cv2.cvtColor(enemy_img, cv2.COLOR_BGR2GRAY)\n",
    "ret, thresh1 = cv2.threshold(main_gs, 120, 255, cv2.THRESH_BINARY)\n",
    "display_image(thresh1)"
   ]
  },
  {
   "cell_type": "code",
   "execution_count": null,
   "metadata": {},
   "outputs": [],
   "source": [
    "\n"
   ]
  }
 ],
 "metadata": {
  "kernelspec": {
   "display_name": "Python 3",
   "language": "python",
   "name": "python3"
  },
  "language_info": {
   "codemirror_mode": {
    "name": "ipython",
    "version": 3
   },
   "file_extension": ".py",
   "mimetype": "text/x-python",
   "name": "python",
   "nbconvert_exporter": "python",
   "pygments_lexer": "ipython3",
   "version": "3.9.7"
  },
  "orig_nbformat": 4,
  "vscode": {
   "interpreter": {
    "hash": "c347c8f9a7ef94e4c9e03b4513be7835ed18f45b99a2a817fb579f408b867b16"
   }
  }
 },
 "nbformat": 4,
 "nbformat_minor": 2
}
