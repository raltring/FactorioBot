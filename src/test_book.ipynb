{
 "cells": [
  {
   "attachments": {},
   "cell_type": "markdown",
   "metadata": {},
   "source": [
    "Import the necessary packages"
   ]
  },
  {
   "cell_type": "code",
   "execution_count": 1,
   "metadata": {},
   "outputs": [],
   "source": [
    "import cv2\n",
    "import numpy as np\n",
    "import os\n",
    "import platform\n",
    "if platform.uname().system == 'Windows':\n",
    "    os.chdir('C:/Users/ralt6/source/repos/FactorioBot/')\n",
    "else:\n",
    "    os.chdir('/home/ryan/Projects/FactorioBot/')"
   ]
  },
  {
   "attachments": {},
   "cell_type": "markdown",
   "metadata": {},
   "source": [
    "Declare image paths"
   ]
  },
  {
   "cell_type": "code",
   "execution_count": 2,
   "metadata": {},
   "outputs": [],
   "source": [
    "main_img_path = 'src/images/test_image_1.jpg'\n",
    "enemy_img_path = 'src/images/ti1_dead_enemy_vertical.jpg'"
   ]
  },
  {
   "attachments": {},
   "cell_type": "markdown",
   "metadata": {},
   "source": [
    "Load images and reduce size by half"
   ]
  },
  {
   "cell_type": "code",
   "execution_count": 3,
   "metadata": {},
   "outputs": [],
   "source": [
    "main_img = cv2.imread(main_img_path, cv2.IMREAD_REDUCED_COLOR_2)\n",
    "enemy_img = cv2.imread(enemy_img_path, cv2.IMREAD_REDUCED_COLOR_2)"
   ]
  },
  {
   "attachments": {},
   "cell_type": "markdown",
   "metadata": {},
   "source": [
    "Display image sizes"
   ]
  },
  {
   "cell_type": "code",
   "execution_count": 4,
   "metadata": {},
   "outputs": [
    {
     "name": "stdout",
     "output_type": "stream",
     "text": [
      "Height = 450, width = 800\n",
      "Height = 39, width = 34\n"
     ]
    }
   ],
   "source": [
    "h, w = main_img.shape[:2]\n",
    "print(\"Height = {}, width = {}\".format(h,w))\n",
    "h,w = enemy_img.shape[:2]\n",
    "print(\"Height = {}, width = {}\".format(h,w))"
   ]
  },
  {
   "attachments": {},
   "cell_type": "markdown",
   "metadata": {
    "tags": []
   },
   "source": [
    "Extract R,B,G values from a particular pixel"
   ]
  },
  {
   "cell_type": "code",
   "execution_count": 5,
   "metadata": {},
   "outputs": [
    {
     "name": "stdout",
     "output_type": "stream",
     "text": [
      "R: 47, G: 18, B: 0\n"
     ]
    }
   ],
   "source": [
    "b, g, r = main_img[100,100]\n",
    "print('R: {}, G: {}, B: {}'.format(r,g,b))"
   ]
  },
  {
   "attachments": {},
   "cell_type": "markdown",
   "metadata": {},
   "source": [
    "Extract a particular region of interest"
   ]
  },
  {
   "cell_type": "code",
   "execution_count": 6,
   "metadata": {},
   "outputs": [],
   "source": [
    "roi = main_img[100:400, 100:400]\n",
    "def display_image(img):\n",
    "    cv2.imshow('Section', img)\n",
    "    cv2.waitKey(0)\n",
    "    cv2.destroyAllWindows()"
   ]
  },
  {
   "attachments": {},
   "cell_type": "markdown",
   "metadata": {},
   "source": [
    "Convert images to grayscale. Set pixel values above 120 to 255 and pixel at 120 or below to 0. Display image"
   ]
  },
  {
   "cell_type": "code",
   "execution_count": 7,
   "metadata": {},
   "outputs": [],
   "source": [
    "main_gs = cv2.cvtColor(main_img, cv2.COLOR_BGR2GRAY)\n",
    "enemy_gs = cv2.cvtColor(enemy_img, cv2.COLOR_BGR2GRAY)\n",
    "ret, thresh1 = cv2.threshold(main_gs, 120, 255, cv2.THRESH_BINARY)\n",
    "display_image(thresh1)"
   ]
  },
  {
   "attachments": {},
   "cell_type": "markdown",
   "metadata": {},
   "source": [
    "Compare enemy image against test image\n"
   ]
  },
  {
   "cell_type": "code",
   "execution_count": 8,
   "metadata": {},
   "outputs": [],
   "source": [
    "result = cv2.matchTemplate(main_img, enemy_img, cv2.TM_CCOEFF_NORMED)\n",
    "display_image(result)"
   ]
  },
  {
   "attachments": {},
   "cell_type": "markdown",
   "metadata": {},
   "source": [
    "Get the location of the max item observed"
   ]
  },
  {
   "cell_type": "code",
   "execution_count": 9,
   "metadata": {},
   "outputs": [
    {
     "name": "stdout",
     "output_type": "stream",
     "text": [
      "Image located at Location: (528, 219) with value: 0.9939625263214111\n"
     ]
    }
   ],
   "source": [
    "min_val, max_val, min_loc, max_loc = cv2.minMaxLoc(result)\n",
    "print(\"Image located at Location: {} with value: {}\".format(max_loc, max_val))"
   ]
  },
  {
   "attachments": {},
   "cell_type": "markdown",
   "metadata": {},
   "source": [
    "Draw rectangle around found dead enemy in test image"
   ]
  },
  {
   "cell_type": "code",
   "execution_count": 15,
   "metadata": {},
   "outputs": [
    {
     "data": {
      "text/plain": [
       "True"
      ]
     },
     "execution_count": 15,
     "metadata": {},
     "output_type": "execute_result"
    }
   ],
   "source": [
    "eh,ew = enemy_img.shape[:2]\n",
    "top_left = max_loc\n",
    "bottom_right = (max_loc[0] + ew, max_loc[1] + eh)\n",
    "result = cv2.rectangle(main_img, top_left, bottom_right, color=(0,255,0), thickness=2, lineType=cv2.LINE_4)\n",
    "display_image(result)\n",
    "cv2.imwrite('src/images/test_image_1_ti1_result.jpg', result)"
   ]
  },
  {
   "attachments": {},
   "cell_type": "markdown",
   "metadata": {},
   "source": [
    "Gather list of results of nearly matching images above a certain threshold"
   ]
  },
  {
   "cell_type": "code",
   "execution_count": 35,
   "metadata": {},
   "outputs": [
    {
     "name": "stdout",
     "output_type": "stream",
     "text": [
      "[(527, 214), (528, 214), (529, 214), (526, 215), (527, 215), (528, 215), (526, 217), (527, 217), (528, 217), (529, 217), (530, 217), (531, 217), (532, 217), (525, 218), (526, 218), (527, 218), (528, 218), (529, 218), (530, 218), (531, 218), (532, 218), (525, 219), (526, 219), (527, 219), (528, 219), (529, 219), (530, 219), (531, 219), (525, 220), (526, 220), (527, 220), (528, 220), (529, 220), (530, 220), (531, 220), (525, 221), (526, 221), (527, 221), (528, 221), (529, 221), (530, 221), (528, 223), (529, 223), (530, 223), (528, 224), (529, 224), (429, 248), (430, 248), (429, 249), (430, 249), (429, 250), (430, 250), (427, 255), (428, 255), (429, 255), (430, 255), (428, 256), (429, 256), (388, 405), (389, 405), (388, 406), (389, 406)]\n"
     ]
    }
   ],
   "source": [
    "main_img = cv2.imread(main_img_path, cv2.IMREAD_REDUCED_COLOR_2)\n",
    "result = cv2.matchTemplate(main_img, enemy_img, cv2.TM_CCOEFF_NORMED)\n",
    "def find_above_threshold(result, threshold):\n",
    "    locations = np.where(result >= threshold)\n",
    "    return list(zip(*locations[::-1]))\n",
    "    #for i in range(len(result)):\n",
    "    #    for j in range(len(result[i])):\n",
    "    #        if result[i][j] > threshold:\n",
    "    #            print('Print threshold found at {} with value {}'.format((i,j), result[i][j]))\n",
    "print(find_above_threshold(result, 0.4))"
   ]
  },
  {
   "attachments": {},
   "cell_type": "markdown",
   "metadata": {},
   "source": [
    "Draw rectangles for all found locations"
   ]
  },
  {
   "cell_type": "code",
   "execution_count": 56,
   "metadata": {},
   "outputs": [],
   "source": [
    "def draw_rectangles(img, locations, dimension, name):\n",
    "    for i in locations:\n",
    "        top_left = i\n",
    "        bottom_right = (top_left[0] + dimension[0], top_left[1] + dimension[1])\n",
    "        cv2.rectangle(img, top_left, bottom_right, color=(0,255,0), thickness=2, lineType=cv2.LINE_4)\n",
    "    cv2.imwrite('src/images/{}.jpg'.format(name), img)\n",
    "\n",
    "enemy_img = cv2.imread(enemy_img_path)\n",
    "methods = [(cv2.TM_SQDIFF, 'SQDIFF'), (cv2.TM_SQDIFF_NORMED, 'SQDIFF_NORMED'), (cv2.TM_CCORR, 'CCORR'), \n",
    "    (cv2.TM_CCORR_NORMED, 'CCORR_NORMED'), (cv2.TM_CCOEFF, 'CCOEFF'), (cv2.TM_CCOEFF_NORMED, 'CCOEFF_NORMED')]\n",
    "for method in methods:\n",
    "    main_img = cv2.imread(main_img_path)\n",
    "    result = cv2.matchTemplate(main_img, enemy_img, method[0])\n",
    "    locations = find_above_threshold(result, 0.98)\n",
    "    draw_rectangles(main_img, locations, enemy_img.shape[:2], 'ti1_evert_test_result2_{}'.format(method[1]))"
   ]
  },
  {
   "cell_type": "markdown",
   "metadata": {},
   "source": []
  },
  {
   "cell_type": "code",
   "execution_count": null,
   "metadata": {},
   "outputs": [],
   "source": []
  },
  {
   "cell_type": "markdown",
   "metadata": {},
   "source": []
  },
  {
   "cell_type": "code",
   "execution_count": null,
   "metadata": {},
   "outputs": [],
   "source": []
  }
 ],
 "metadata": {
  "kernelspec": {
   "display_name": "Python 3",
   "language": "python",
   "name": "python3"
  },
  "language_info": {
   "codemirror_mode": {
    "name": "ipython",
    "version": 3
   },
   "file_extension": ".py",
   "mimetype": "text/x-python",
   "name": "python",
   "nbconvert_exporter": "python",
   "pygments_lexer": "ipython3",
   "version": "3.9.7 (tags/v3.9.7:1016ef3, Aug 30 2021, 20:19:38) [MSC v.1929 64 bit (AMD64)]"
  },
  "orig_nbformat": 4,
  "vscode": {
   "interpreter": {
    "hash": "c347c8f9a7ef94e4c9e03b4513be7835ed18f45b99a2a817fb579f408b867b16"
   }
  }
 },
 "nbformat": 4,
 "nbformat_minor": 2
}
